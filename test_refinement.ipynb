{
 "cells": [
  {
   "cell_type": "markdown",
   "metadata": {},
   "source": [
    "## Refinement\n",
    "\n",
    "__This notebook contains just some thoughts, not going anywhere yet__\n",
    "\n",
    "It is slightly more difficult to refine a sample. Let start with an increment $N_{i,h}$ with step-size $h$ at (discrete) time $i$. The distribution for this increment is $N(0,h)$. We can sub-divide this in 2 steps of half the size $h/2$, thus $N_{i,h}=\\tilde{N}_{2i-1,h/2}+\\tilde{N}_{2i,h/2}$, independent and both with distribution $N(0,h/2)$. Now consider:\n",
    "\n",
    "$\\begin{bmatrix} N_{i,h} \\\\ N^c_{i,h}\\end{bmatrix} = \n",
    " \\begin{bmatrix} 1 & 1 \\\\ -1 & 1 \\end{bmatrix}\n",
    " \\begin{bmatrix} N_{2i-1,h/2} \\\\ N_{2i,h/2} \\end{bmatrix}$\n",
    " \n",
    " This just tells us that we can easily move from fine to coarser. However, there is an additional variable . $N^c_{i,h}$. The reason will become clear soon. One can easily show that $N_{i,h}$ and $N^c_{i,h}$ are independent with distribution $N(0,h)$. Because the matrix is invertable, one can also write this backwards, i.e.\n",
    " \n",
    "$\\begin{bmatrix} N_{2i-1,h/2} \\\\ N_{2i,h/2} \\end{bmatrix} = \n",
    " \\begin{bmatrix} 1/2 & -1/2 \\\\ 1/2 & 1/2 \\end{bmatrix}\n",
    " \\begin{bmatrix} N_{i,h} \\\\ N^c_{i,h}\\end{bmatrix}$\n",
    "\n",
    "We can use this for refinement, since we know $N_{i,h}$ and we can draw a sample of $N^c_{i,h}$ from a $N(0,h)$ distribution and then apply this multiplication. "
   ]
  },
  {
   "cell_type": "code",
   "execution_count": 1,
   "metadata": {},
   "outputs": [],
   "source": [
    "# import some useful packages first\n",
    "import numpy as np\n",
    "import matplotlib.pyplot as plt\n",
    "from numpy.random import randn #random number generator for normal or gaussian distributed variables.\n",
    "from math import * #basic math functions"
   ]
  },
  {
   "cell_type": "code",
   "execution_count": 2,
   "metadata": {},
   "outputs": [
    {
     "ename": "NameError",
     "evalue": "name 's' is not defined",
     "output_type": "error",
     "traceback": [
      "\u001b[0;31m---------------------------------------------------------------------------\u001b[0m",
      "\u001b[0;31mNameError\u001b[0m                                 Traceback (most recent call last)",
      "\u001b[0;32m<ipython-input-2-ba356b6b46b9>\u001b[0m in \u001b[0;36m<module>\u001b[0;34m\u001b[0m\n\u001b[1;32m      3\u001b[0m \u001b[0mt_all\u001b[0m \u001b[0;34m=\u001b[0m \u001b[0mnp\u001b[0m\u001b[0;34m.\u001b[0m\u001b[0marange\u001b[0m\u001b[0;34m(\u001b[0m\u001b[0mdt\u001b[0m\u001b[0;34m,\u001b[0m\u001b[0mL\u001b[0m\u001b[0;34m+\u001b[0m\u001b[0mdt\u001b[0m\u001b[0;34m,\u001b[0m\u001b[0mdt\u001b[0m\u001b[0;34m)\u001b[0m\u001b[0;34m\u001b[0m\u001b[0;34m\u001b[0m\u001b[0m\n\u001b[1;32m      4\u001b[0m \u001b[0mn\u001b[0m\u001b[0;34m=\u001b[0m\u001b[0mlen\u001b[0m\u001b[0;34m(\u001b[0m\u001b[0mt_all\u001b[0m\u001b[0;34m)\u001b[0m\u001b[0;34m\u001b[0m\u001b[0;34m\u001b[0m\u001b[0m\n\u001b[0;32m----> 5\u001b[0;31m \u001b[0mN_i\u001b[0m \u001b[0;34m=\u001b[0m \u001b[0msqrt\u001b[0m\u001b[0;34m(\u001b[0m\u001b[0mdt\u001b[0m\u001b[0;34m)\u001b[0m\u001b[0;34m*\u001b[0m\u001b[0mrandn\u001b[0m\u001b[0;34m(\u001b[0m\u001b[0mn\u001b[0m\u001b[0;34m,\u001b[0m\u001b[0ms\u001b[0m\u001b[0;34m)\u001b[0m\u001b[0;34m\u001b[0m\u001b[0;34m\u001b[0m\u001b[0m\n\u001b[0m\u001b[1;32m      6\u001b[0m \u001b[0mW_i\u001b[0m \u001b[0;34m=\u001b[0m \u001b[0mnp\u001b[0m\u001b[0;34m.\u001b[0m\u001b[0mcumsum\u001b[0m\u001b[0;34m(\u001b[0m\u001b[0mN_i\u001b[0m\u001b[0;34m,\u001b[0m\u001b[0maxis\u001b[0m\u001b[0;34m=\u001b[0m\u001b[0;36m0\u001b[0m\u001b[0;34m)\u001b[0m\u001b[0;34m\u001b[0m\u001b[0;34m\u001b[0m\u001b[0m\n\u001b[1;32m      7\u001b[0m \u001b[0;34m\u001b[0m\u001b[0m\n",
      "\u001b[0;31mNameError\u001b[0m: name 's' is not defined"
     ]
    }
   ],
   "source": [
    "L=256\n",
    "dt=L/4 # initial coarse steps\n",
    "t_all = np.arange(dt,L+dt,dt) \n",
    "n=len(t_all)\n",
    "N_i = sqrt(dt)*randn(n,s) \n",
    "W_i = np.cumsum(N_i,axis=0) \n",
    "\n",
    "def refine_random_walk(t,w):\n",
    "    return (t_half,w_half)\n",
    "\n",
    "plt.plot(t_all,W_i,'k-')\n",
    "plt.title(\"Random walk with factor 2 refinement\")\n",
    "plt.show()\n"
   ]
  },
  {
   "cell_type": "code",
   "execution_count": null,
   "metadata": {},
   "outputs": [],
   "source": []
  }
 ],
 "metadata": {
  "kernelspec": {
   "display_name": "Python 3",
   "language": "python",
   "name": "python3"
  },
  "language_info": {
   "codemirror_mode": {
    "name": "ipython",
    "version": 3
   },
   "file_extension": ".py",
   "mimetype": "text/x-python",
   "name": "python",
   "nbconvert_exporter": "python",
   "pygments_lexer": "ipython3",
   "version": "3.7.4"
  }
 },
 "nbformat": 4,
 "nbformat_minor": 4
}
